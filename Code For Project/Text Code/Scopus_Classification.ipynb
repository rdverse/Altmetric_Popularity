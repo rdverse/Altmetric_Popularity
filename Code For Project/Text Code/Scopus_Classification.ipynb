{
 "cells": [
  {
   "cell_type": "markdown",
   "metadata": {},
   "source": [
    "# Mean of positive samples of scopus subjects"
   ]
  },
  {
   "cell_type": "code",
   "execution_count": 44,
   "metadata": {},
   "outputs": [],
   "source": [
    "import numpy, pandas as pd\n",
    "import sklearn\n",
    "import matplotlib.pyplot as plt\n",
    "%matplotlib inline"
   ]
  },
  {
   "cell_type": "code",
   "execution_count": 45,
   "metadata": {},
   "outputs": [],
   "source": [
    "#set the path to the feature_data_set.csv\n",
    "PATH = 'C:\\\\Users\\\\Devesh\\\\Documents\\\\data\\\\extractone\\\\jun-10th-dump.tar.gz.part\\\\keys\\\\key.csv'\n",
    "data = pd.read_csv(PATH)"
   ]
  },
  {
   "cell_type": "code",
   "execution_count": 46,
   "metadata": {
    "scrolled": true
   },
   "outputs": [
    {
     "name": "stdout",
     "output_type": "stream",
     "text": [
      "<class 'str'>\n"
     ]
    }
   ],
   "source": [
    "data.head()\n",
    "#data = data['Title'].applymap(str)\n",
    "data['Title'] = data['Title'].astype(str)\n",
    "data['Scopus'] = data['Scopus'].astype(str)\n"
   ]
  },
  {
   "cell_type": "code",
   "execution_count": 47,
   "metadata": {},
   "outputs": [
    {
     "name": "stdout",
     "output_type": "stream",
     "text": [
      "(26086, 5)\n"
     ]
    }
   ],
   "source": [
    "import re\n",
    "def process_title(title): \n",
    "    #strip away numbers and parenthesis\n",
    "    title = title.replace('(','').replace(')','')\n",
    "    title = re.sub(r'\\d+','',title)\n",
    "    # strip away \"part\" word\n",
    "    title = re.sub(r'[Pp]art','',title)\n",
    "    #strip II and III and IV\n",
    "    title = title.replace('II','').replace('III','').replace('IV','')\n",
    "    return title\n",
    "\n",
    "data['Title'] = data['Title'].apply(process_title) \n",
    "#drop empty titles\n",
    "data = data.drop(data[data['Title'].str.strip() ==''].index)\n",
    "data.head()\n",
    "print(data.shape)"
   ]
  },
  {
   "cell_type": "code",
   "execution_count": 48,
   "metadata": {},
   "outputs": [
    {
     "name": "stdout",
     "output_type": "stream",
     "text": [
      "{'medicine', 'professions', 'agricultural', 'dentistry', 'immunology', 'genetics', 'energy', 'biology', 'biological', 'accounting', 'veterinary', 'physics', 'science', 'health', 'sciences', 'chemistry', 'economics,', 'arts', 'biochemistry,', 'life', 'pharmaceutics', 'nursing', 'humanities', 'econometrics', 'toxicology', 'planetary', 'pharmacology,', 'neuroscience', 'social', 'environmental', 'astronomy', 'psychology', 'engineering', 'management', 'business,', 'computer', 'physical', 'molecular', 'mathematics', 'materials', 'decision', 'earth', 'general', 'microbiology', 'chemical', 'finance', 'and'}\n"
     ]
    }
   ],
   "source": [
    "data['Scopus'] = data['Scopus'].apply(lambda Sub:Sub.lower())\n",
    "\n",
    "# get all subjects and scopus in sets\n",
    "\n",
    "Scopuses = set()\n",
    "\n",
    "    \n",
    "for Sco in data['Scopus'].str.split(' '):\n",
    "    Scopuses |= set(Sco)\n",
    "\n",
    "print(Scopuses)\n",
    "\n",
    "for Sconame in Scopuses:\n",
    "    \n",
    "    data[Sconame] = data['Scopus'].apply(lambda Sco:1 if Sconame in Sco.split(' ') else 0)"
   ]
  },
  {
   "cell_type": "code",
   "execution_count": 49,
   "metadata": {
    "scrolled": true
   },
   "outputs": [
    {
     "data": {
      "text/html": [
       "<div>\n",
       "<style scoped>\n",
       "    .dataframe tbody tr th:only-of-type {\n",
       "        vertical-align: middle;\n",
       "    }\n",
       "\n",
       "    .dataframe tbody tr th {\n",
       "        vertical-align: top;\n",
       "    }\n",
       "\n",
       "    .dataframe thead th {\n",
       "        text-align: right;\n",
       "    }\n",
       "</style>\n",
       "<table border=\"1\" class=\"dataframe\">\n",
       "  <thead>\n",
       "    <tr style=\"text-align: right;\">\n",
       "      <th></th>\n",
       "      <th>Altmetric_ID</th>\n",
       "      <th>Altmetric_Score</th>\n",
       "      <th>Title</th>\n",
       "      <th>Abstract</th>\n",
       "      <th>Scopus</th>\n",
       "      <th>medicine</th>\n",
       "      <th>professions</th>\n",
       "      <th>agricultural</th>\n",
       "      <th>dentistry</th>\n",
       "      <th>immunology</th>\n",
       "      <th>...</th>\n",
       "      <th>molecular</th>\n",
       "      <th>mathematics</th>\n",
       "      <th>materials</th>\n",
       "      <th>decision</th>\n",
       "      <th>earth</th>\n",
       "      <th>general</th>\n",
       "      <th>microbiology</th>\n",
       "      <th>chemical</th>\n",
       "      <th>finance</th>\n",
       "      <th>and</th>\n",
       "    </tr>\n",
       "  </thead>\n",
       "  <tbody>\n",
       "    <tr>\n",
       "      <th>0</th>\n",
       "      <td>21037493</td>\n",
       "      <td>1.00</td>\n",
       "      <td>What About the Different Shortened Versions of...</td>\n",
       "      <td>Given the mixed conclusions on the psychometri...</td>\n",
       "      <td>psychology social sciences</td>\n",
       "      <td>0</td>\n",
       "      <td>0</td>\n",
       "      <td>0</td>\n",
       "      <td>0</td>\n",
       "      <td>0</td>\n",
       "      <td>...</td>\n",
       "      <td>0</td>\n",
       "      <td>0</td>\n",
       "      <td>0</td>\n",
       "      <td>0</td>\n",
       "      <td>0</td>\n",
       "      <td>0</td>\n",
       "      <td>0</td>\n",
       "      <td>0</td>\n",
       "      <td>0</td>\n",
       "      <td>0</td>\n",
       "    </tr>\n",
       "    <tr>\n",
       "      <th>1</th>\n",
       "      <td>41395209</td>\n",
       "      <td>3.00</td>\n",
       "      <td>Genomic organization and deduced amino acid se...</td>\n",
       "      <td>The deduced amino acid sequence of a Drosophil...</td>\n",
       "      <td>general</td>\n",
       "      <td>0</td>\n",
       "      <td>0</td>\n",
       "      <td>0</td>\n",
       "      <td>0</td>\n",
       "      <td>0</td>\n",
       "      <td>...</td>\n",
       "      <td>0</td>\n",
       "      <td>0</td>\n",
       "      <td>0</td>\n",
       "      <td>0</td>\n",
       "      <td>0</td>\n",
       "      <td>1</td>\n",
       "      <td>0</td>\n",
       "      <td>0</td>\n",
       "      <td>0</td>\n",
       "      <td>0</td>\n",
       "    </tr>\n",
       "    <tr>\n",
       "      <th>2</th>\n",
       "      <td>22439163</td>\n",
       "      <td>0.00</td>\n",
       "      <td>Interlamellar lipid differences between normal...</td>\n",
       "      <td>Intercellular lipids of the stratum corneum ar...</td>\n",
       "      <td>medicine health sciences</td>\n",
       "      <td>1</td>\n",
       "      <td>0</td>\n",
       "      <td>0</td>\n",
       "      <td>0</td>\n",
       "      <td>0</td>\n",
       "      <td>...</td>\n",
       "      <td>0</td>\n",
       "      <td>0</td>\n",
       "      <td>0</td>\n",
       "      <td>0</td>\n",
       "      <td>0</td>\n",
       "      <td>0</td>\n",
       "      <td>0</td>\n",
       "      <td>0</td>\n",
       "      <td>0</td>\n",
       "      <td>0</td>\n",
       "    </tr>\n",
       "    <tr>\n",
       "      <th>3</th>\n",
       "      <td>1311989</td>\n",
       "      <td>0.00</td>\n",
       "      <td>Implant Microdesigns and Their Impact on Osseo...</td>\n",
       "      <td>Researchers are in constant search for the ide...</td>\n",
       "      <td>dentistry health sciences</td>\n",
       "      <td>0</td>\n",
       "      <td>0</td>\n",
       "      <td>0</td>\n",
       "      <td>1</td>\n",
       "      <td>0</td>\n",
       "      <td>...</td>\n",
       "      <td>0</td>\n",
       "      <td>0</td>\n",
       "      <td>0</td>\n",
       "      <td>0</td>\n",
       "      <td>0</td>\n",
       "      <td>0</td>\n",
       "      <td>0</td>\n",
       "      <td>0</td>\n",
       "      <td>0</td>\n",
       "      <td>0</td>\n",
       "    </tr>\n",
       "    <tr>\n",
       "      <th>4</th>\n",
       "      <td>12958677</td>\n",
       "      <td>9.08</td>\n",
       "      <td>Marked Body Shape Concerns in Female Patients ...</td>\n",
       "      <td>Concerns about body shape and weight are core ...</td>\n",
       "      <td>biochemistry, genetics and molecular biology h...</td>\n",
       "      <td>1</td>\n",
       "      <td>0</td>\n",
       "      <td>1</td>\n",
       "      <td>0</td>\n",
       "      <td>0</td>\n",
       "      <td>...</td>\n",
       "      <td>1</td>\n",
       "      <td>0</td>\n",
       "      <td>0</td>\n",
       "      <td>0</td>\n",
       "      <td>0</td>\n",
       "      <td>0</td>\n",
       "      <td>0</td>\n",
       "      <td>0</td>\n",
       "      <td>0</td>\n",
       "      <td>1</td>\n",
       "    </tr>\n",
       "  </tbody>\n",
       "</table>\n",
       "<p>5 rows × 52 columns</p>\n",
       "</div>"
      ],
      "text/plain": [
       "   Altmetric_ID  Altmetric_Score  \\\n",
       "0      21037493             1.00   \n",
       "1      41395209             3.00   \n",
       "2      22439163             0.00   \n",
       "3       1311989             0.00   \n",
       "4      12958677             9.08   \n",
       "\n",
       "                                               Title  \\\n",
       "0  What About the Different Shortened Versions of...   \n",
       "1  Genomic organization and deduced amino acid se...   \n",
       "2  Interlamellar lipid differences between normal...   \n",
       "3  Implant Microdesigns and Their Impact on Osseo...   \n",
       "4  Marked Body Shape Concerns in Female Patients ...   \n",
       "\n",
       "                                            Abstract  \\\n",
       "0  Given the mixed conclusions on the psychometri...   \n",
       "1  The deduced amino acid sequence of a Drosophil...   \n",
       "2  Intercellular lipids of the stratum corneum ar...   \n",
       "3  Researchers are in constant search for the ide...   \n",
       "4  Concerns about body shape and weight are core ...   \n",
       "\n",
       "                                              Scopus  medicine  professions  \\\n",
       "0                         psychology social sciences         0            0   \n",
       "1                                            general         0            0   \n",
       "2                           medicine health sciences         1            0   \n",
       "3                          dentistry health sciences         0            0   \n",
       "4  biochemistry, genetics and molecular biology h...         1            0   \n",
       "\n",
       "   agricultural  dentistry  immunology ...   molecular  mathematics  \\\n",
       "0             0          0           0 ...           0            0   \n",
       "1             0          0           0 ...           0            0   \n",
       "2             0          0           0 ...           0            0   \n",
       "3             0          1           0 ...           0            0   \n",
       "4             1          0           0 ...           1            0   \n",
       "\n",
       "   materials  decision  earth  general  microbiology  chemical  finance  and  \n",
       "0          0         0      0        0             0         0        0    0  \n",
       "1          0         0      0        1             0         0        0    0  \n",
       "2          0         0      0        0             0         0        0    0  \n",
       "3          0         0      0        0             0         0        0    0  \n",
       "4          0         0      0        0             0         0        0    1  \n",
       "\n",
       "[5 rows x 52 columns]"
      ]
     },
     "execution_count": 49,
     "metadata": {},
     "output_type": "execute_result"
    }
   ],
   "source": [
    "data.head()"
   ]
  },
  {
   "cell_type": "code",
   "execution_count": 50,
   "metadata": {},
   "outputs": [],
   "source": [
    "data['Title']=data['Title'].apply(lambda t: t.lower())"
   ]
  },
  {
   "cell_type": "code",
   "execution_count": 51,
   "metadata": {},
   "outputs": [
    {
     "name": "stdout",
     "output_type": "stream",
     "text": [
      "<class 'dict'>\n"
     ]
    }
   ],
   "source": [
    "#dmean = dict(data.mean())\n",
    "all_titles = ['Altmetric_Score', 'chemical', 'computer', 'life', 'microbiology',\n",
    "       'genetics', 'professions', 'toxicology', 'engineering', 'energy',\n",
    "       'biological', 'earth', 'accounting', 'chemistry', 'biochemistry,',\n",
    "       'pharmacology,', 'general', 'agricultural', 'finance', \n",
    "       'economics,', 'biology', 'sciences', 'physical', 'decision', 'physics',\n",
    "       'neuroscience', 'veterinary', 'pharmaceutics', 'planetary',\n",
    "       'environmental', 'humanities', 'health', 'psychology', 'nursing' \n",
    "      , 'immunology', 'science', 'medicine', 'management',\n",
    "       'social', 'business,', 'arts', 'materials', 'mathematics', 'molecular',\n",
    "       'dentistry', 'astronomy', 'econometrics']\n",
    "dmean={}\n",
    "data['computer']=0\n",
    "\n",
    "for title in all_titles:\n",
    "    dmean[title]=data[title].mean()\n",
    "\n",
    "for item in \n",
    "    \n",
    "    \n",
    "print(type(dmean))\n",
    "\n"
   ]
  },
  {
   "cell_type": "code",
   "execution_count": 30,
   "metadata": {},
   "outputs": [
    {
     "data": {
      "text/plain": [
       "Index(['Altmetric_ID', 'Altmetric_Score', 'Title', 'Abstract', 'Scopus',\n",
       "       'medicine', 'agricultural', 'immunology', 'genetics', 'biology',\n",
       "       'biological', 'science', 'health', 'sciences', 'chemistry',\n",
       "       'biochemistry,', 'life', 'pharmaceutics', 'nursing', 'toxicology',\n",
       "       'pharmacology,', 'neuroscience', 'social', 'environmental',\n",
       "       'psychology', 'engineering', 'physical', 'molecular', 'general',\n",
       "       'microbiology', 'chemical', 'and'],\n",
       "      dtype='object')"
      ]
     },
     "execution_count": 30,
     "metadata": {},
     "output_type": "execute_result"
    }
   ],
   "source": [
    "data.columns"
   ]
  },
  {
   "cell_type": "code",
   "execution_count": 20,
   "metadata": {
    "scrolled": true
   },
   "outputs": [
    {
     "name": "stdout",
     "output_type": "stream",
     "text": [
      "{'Altmetric_Score': 8.18918699685681, 'chemical': 0.023959211837767384, 'computer': 0.0, 'life': 0.46181860001533387, 'microbiology': 0.07172429655754044, 'genetics': 0.3143448593115081, 'professions': 0.020317411638426743, 'toxicology': 0.0551253545963352, 'engineering': 0.036648010427048995, 'energy': 0.0006516905619872728, 'biological': 0.08809323008510311, 'earth': 0.0019550716859618187, 'accounting': 0.0006516905619872728, 'chemistry': 0.061488921260446215, 'biochemistry,': 0.3143448593115081, 'pharmacology,': 0.0551253545963352, 'general': 0.026757647780418614, 'agricultural': 0.08809323008510311, 'finance': 0.0004600168672851338, 'economics,': 0.0004600168672851338, 'biology': 0.3143448593115081, 'sciences': 0.9732806869585218, 'physical': 0.12826803649467147, 'decision': 0.00015333895576171127, 'physics': 0.023422525492601397, 'neuroscience': 0.06927087326535307, 'veterinary': 0.01245879015563904, 'pharmaceutics': 0.0551253545963352, 'planetary': 0.0019550716859618187, 'environmental': 0.03212451123207851, 'humanities': 0.002070075902783102, 'health': 0.6317564977382504, 'psychology': 0.03898642950241509, 'nursing': 0.03039944797975926, 'immunology': 0.07172429655754044, 'science': 0.06099056965422065, 'medicine': 0.6045004983516062, 'management': 0.0006516905619872728, 'social': 0.05995553170282911, 'business,': 0.0006516905619872728, 'arts': 0.002070075902783102, 'materials': 0.019512382120677758, 'mathematics': 0.008011960438549414, 'molecular': 0.3143448593115081, 'dentistry': 0.006976922487157863, 'astronomy': 0.023422525492601397, 'econometrics': 0.0004600168672851338}\n"
     ]
    }
   ],
   "source": [
    "print(dmean)"
   ]
  },
  {
   "cell_type": "code",
   "execution_count": 21,
   "metadata": {},
   "outputs": [
    {
     "data": {
      "text/plain": [
       "Index(['Altmetric_ID', 'Altmetric_Score', 'Title', 'Abstract', 'Scopus',\n",
       "       'medicine', 'professions', 'agricultural', 'dentistry', 'immunology',\n",
       "       'genetics', 'energy', 'biology', 'biological', 'accounting',\n",
       "       'veterinary', 'physics', 'science', 'health', 'sciences', 'chemistry',\n",
       "       'economics,', 'arts', 'biochemistry,', 'life', 'pharmaceutics',\n",
       "       'nursing', 'humanities', 'econometrics', 'toxicology', 'planetary',\n",
       "       'pharmacology,', 'neuroscience', 'social', 'environmental', 'astronomy',\n",
       "       'psychology', 'engineering', 'management', 'business,', 'computer',\n",
       "       'physical', 'molecular', 'mathematics', 'materials', 'decision',\n",
       "       'earth', 'general', 'microbiology', 'chemical', 'finance', 'and'],\n",
       "      dtype='object')"
      ]
     },
     "execution_count": 21,
     "metadata": {},
     "output_type": "execute_result"
    }
   ],
   "source": [
    "data.head()\n",
    "data.columns\n"
   ]
  },
  {
   "cell_type": "code",
   "execution_count": 52,
   "metadata": {},
   "outputs": [],
   "source": [
    "from collections import OrderedDict\n",
    "dd = OrderedDict(sorted(dmean.items(), key=lambda x: x[1]))\n"
   ]
  },
  {
   "cell_type": "code",
   "execution_count": 53,
   "metadata": {},
   "outputs": [
    {
     "name": "stdout",
     "output_type": "stream",
     "text": [
      "<class 'list'>\n"
     ]
    }
   ],
   "source": [
    "Sco_sorted_freq = sorted(dmean.keys(),key=lambda x:dmean[x])\n",
    "print(type(Sco_sorted_freq))\n",
    "\n",
    "#dropping the least common Scopus\n",
    "for S in Sco_sorted_freq[:20]:\n",
    "    data = data.drop(S,axis=1)\n",
    "    try:\n",
    "        Scopuses.remove(S)\n",
    "    except KeyError:\n",
    "        print(\"next\")\n"
   ]
  },
  {
   "cell_type": "code",
   "execution_count": 54,
   "metadata": {},
   "outputs": [
    {
     "data": {
      "text/plain": [
       "Index(['Altmetric_ID', 'Altmetric_Score', 'Title', 'Abstract', 'Scopus',\n",
       "       'medicine', 'agricultural', 'immunology', 'genetics', 'biology',\n",
       "       'biological', 'science', 'health', 'sciences', 'chemistry',\n",
       "       'biochemistry,', 'life', 'pharmaceutics', 'nursing', 'toxicology',\n",
       "       'pharmacology,', 'neuroscience', 'social', 'environmental',\n",
       "       'psychology', 'engineering', 'physical', 'molecular', 'general',\n",
       "       'microbiology', 'chemical', 'and'],\n",
       "      dtype='object')"
      ]
     },
     "execution_count": 54,
     "metadata": {},
     "output_type": "execute_result"
    }
   ],
   "source": [
    "data.columns"
   ]
  },
  {
   "cell_type": "code",
   "execution_count": 91,
   "metadata": {},
   "outputs": [
    {
     "data": {
      "text/plain": [
       "<matplotlib.axes._subplots.AxesSubplot at 0x14703181630>"
      ]
     },
     "execution_count": 91,
     "metadata": {},
     "output_type": "execute_result"
    },
    {
     "data": {
      "image/png": "[encoded data removed]",
      "text/plain": [
       "<Figure size 432x288 with 1 Axes>"
      ]
     },
     "metadata": {
      "needs_background": "light"
     },
     "output_type": "display_data"
    }
   ],
   "source": [
    "plt.ylim((0,1))\n",
    "plt.ylabel('portion of positive samples of each subject')\n",
    "plt.title(\"frequency of a subject\")\n",
    "data[Sco_sorted_freq[20:47]].mean().plot(kind='bar',edgecolor='black')\n"
   ]
  },
  {
   "cell_type": "code",
   "execution_count": null,
   "metadata": {},
   "outputs": [],
   "source": []
  }
 ],
 "metadata": {
  "kernelspec": {
   "display_name": "Python 3",
   "language": "python",
   "name": "python3"
  },
  "language_info": {
   "codemirror_mode": {
    "name": "ipython",
    "version": 3
   },
   "file_extension": ".py",
   "mimetype": "text/x-python",
   "name": "python",
   "nbconvert_exporter": "python",
   "pygments_lexer": "ipython3",
   "version": "3.7.0"
  }
 },
 "nbformat": 4,
 "nbformat_minor": 2
}
